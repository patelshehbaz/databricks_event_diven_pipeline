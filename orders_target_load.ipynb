{
 "cells": [
  {
   "cell_type": "code",
   "execution_count": 0,
   "metadata": {
    "application/vnd.databricks.v1+cell": {
     "cellMetadata": {},
     "inputWidgets": {},
     "nuid": "fe58c0aa-6884-42dd-aa0e-9fcd194cdca6",
     "showTitle": false,
     "tableResultSettingsMap": {},
     "title": ""
    }
   },
   "outputs": [],
   "source": [
    "from delta.tables import *\n",
    "\n",
    "stage_table_name = \"incremental_load.default.orders_stage\"\n",
    "target_table_name = \"incremental_load.default.orders_target\""
   ]
  },
  {
   "cell_type": "code",
   "execution_count": 0,
   "metadata": {
    "application/vnd.databricks.v1+cell": {
     "cellMetadata": {},
     "inputWidgets": {},
     "nuid": "312fddb7-8f96-46b9-bad2-4c704e0040b2",
     "showTitle": false,
     "tableResultSettingsMap": {},
     "title": ""
    }
   },
   "outputs": [],
   "source": [
    "# Read the data from the stage table\n",
    "stage_df = spark.read.table(stage_table_name)"
   ]
  },
  {
   "cell_type": "code",
   "execution_count": 0,
   "metadata": {
    "application/vnd.databricks.v1+cell": {
     "cellMetadata": {},
     "inputWidgets": {},
     "nuid": "a6a6d41d-6678-4384-aa29-592a0b91415f",
     "showTitle": false,
     "tableResultSettingsMap": {},
     "title": ""
    }
   },
   "outputs": [],
   "source": [
    "# Create equivalent target table schema if target table doesn't exist\n",
    "\n",
    "if not spark._jsparkSession.catalog().tableExists(target_table_name):\n",
    "    stage_df.write.format(\"delta\").saveAsTable(target_table_name)\n",
    "    \n",
    "else:\n",
    "    # Perform delta table merge query for upsert based on tracking_num column\n",
    "    target_table = DeltaTable.forName(spark, target_table_name)\n",
    "\n",
    "    # Define the merge condition based on the tracking_num column\n",
    "    merge_condition = \"stage.tracking_num = target.tracking_num\"\n",
    "\n",
    "    # Execute the merge operation\n",
    "    target_table.alias(\"target\") \\\n",
    "        .merge(stage_df.alias(\"stage\"), merge_condition) \\\n",
    "        .whenMatchedDelete() \\\n",
    "        .execute()\n",
    "\n",
    "    stage_df.write.format(\"delta\").mode(\"append\").saveAsTable(target_table_name)"
   ]
  }
 ],
 "metadata": {
  "application/vnd.databricks.v1+notebook": {
   "computePreferences": null,
   "dashboards": [],
   "environmentMetadata": {
    "base_environment": "",
    "client": "1"
   },
   "language": "python",
   "notebookMetadata": {
    "pythonIndentUnit": 4
   },
   "notebookName": "orders_target_load",
   "widgets": {}
  },
  "language_info": {
   "name": "python"
  }
 },
 "nbformat": 4,
 "nbformat_minor": 0
}
